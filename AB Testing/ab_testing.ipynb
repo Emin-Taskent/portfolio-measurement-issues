{
 "cells": [
  {
   "attachments": {},
   "cell_type": "markdown",
   "metadata": {},
   "source": [
    "# AB Testi ile BiddingYöntemlerinin Dönüşümünün Karşılaştırılması\n",
    "\n",
    "#####################################################\n",
    "### İş Problemi\n",
    "\n",
    "\n",
    "Facebook kısa süre önce mevcut \"maximumbidding\" adı verilen teklif verme türüne alternatif olarak yeni bir teklif türü olan \"average bidding\"’i tanıttı. \n",
    "\n",
    "Müşterilerimizden biri olan xyz.com, bu yeni özelliği test etmeye karar verdi ve averagebidding'in maximumbidding'den daha fazla dönüşüm getirip getirmediğini anlamak için bir A/B testi yapmak istiyor. \n",
    "\n",
    "A/B testi 1 aydır devam ediyor ve xyz.com şimdi sizden bu A/B testinin sonuçlarını analiz etmenizi bekliyor. xyz.com için nihai başarı ölçütü Purchase'dır. Bu nedenle, istatistiksel testler için Purchase metriğine odaklanılmalıdır.\n",
    "\n",
    "#####################################################"
   ]
  },
  {
   "cell_type": "code",
   "execution_count": 11,
   "metadata": {},
   "outputs": [],
   "source": [
    "#####################################################\n",
    "# Veri Seti Hikayesi\n",
    "\n",
    "# Bir firmanın web site bilgilerini içeren bu veri setinde \n",
    "# kullanıcıların gördükleri ve tıkladıkları reklam sayıları gibi bilgilerin yanı sıra \n",
    "# buradan gelen kazanç bilgileri yer almaktadır.\n",
    "\n",
    "# Kontrol ve Test grubu olmak üzere iki ayrı veri seti vardır. \n",
    "# Bu veri setleriab_testing.xlsx excel’inin ayrı sayfalarında yer almaktadır. \n",
    "# Kontrol grubuna Maximum Bidding, test grubuna AverageBidding uygulanmıştır.\n",
    "\n",
    "\n",
    "# Değişkenler;\n",
    "\n",
    "# impression: Reklam görüntüleme sayısı\n",
    "# Click: Görüntülenen reklama tıklama sayısı\n",
    "# Purchase: Tıklanan reklamlar sonrası satın alınan ürün sayısı\n",
    "# Earning: Satın alınan ürünler sonrası elde edilen kazanç"
   ]
  },
  {
   "cell_type": "code",
   "execution_count": 12,
   "metadata": {},
   "outputs": [],
   "source": [
    "# To Do List;\n",
    "\n",
    "# Görev 1:  Veriyi Hazırlama ve Analiz Etme\n",
    "\n",
    "# Görev 2:  A/B Testinin Hipotezinin Tanımlanması\n",
    "\n",
    "# GÖREV 3: Hipotez Testinin Gerçekleştirilmesi"
   ]
  },
  {
   "cell_type": "code",
   "execution_count": 13,
   "metadata": {},
   "outputs": [],
   "source": [
    "# Kütüphanelerin import edilmesi;\n",
    "\n",
    "import pandas as pd\n",
    "import numpy as np\n",
    "import pandas as pd\n",
    "import matplotlib.pyplot as plt\n",
    "from scipy.stats import shapiro, levene, ttest_ind\n",
    "import et_analysis as et\n",
    "\n",
    "# Pandas ayarlamalarının yapılması;\n",
    "\n",
    "pd.set_option('display.max_columns', None)\n",
    "pd.set_option('display.expand_frame_repr', False)\n",
    "pd.set_option('display.float_format', lambda x: '%.2f' % x)"
   ]
  },
  {
   "attachments": {},
   "cell_type": "markdown",
   "metadata": {},
   "source": [
    "### Görev 1:"
   ]
  },
  {
   "cell_type": "code",
   "execution_count": 14,
   "metadata": {},
   "outputs": [],
   "source": [
    "# Test ve kontrol verilerimizi okutalım;\n",
    "\n",
    "df_control = pd.read_excel(\"datasets/ab_testing.xlsx\" , sheet_name=\"Control Group\")\n",
    "df_test = pd.read_excel(\"datasets/ab_testing.xlsx\" , sheet_name=\"Test Group\")"
   ]
  },
  {
   "cell_type": "code",
   "execution_count": 15,
   "metadata": {},
   "outputs": [
    {
     "name": "stdout",
     "output_type": "stream",
     "text": [
      "##################### Shape #####################\n",
      "(40, 4)\n",
      "##################### Types #####################\n"
     ]
    },
    {
     "data": {
      "text/html": [
       "<div>\n",
       "<style scoped>\n",
       "    .dataframe tbody tr th:only-of-type {\n",
       "        vertical-align: middle;\n",
       "    }\n",
       "\n",
       "    .dataframe tbody tr th {\n",
       "        vertical-align: top;\n",
       "    }\n",
       "\n",
       "    .dataframe thead th {\n",
       "        text-align: right;\n",
       "    }\n",
       "</style>\n",
       "<table border=\"1\" class=\"dataframe\">\n",
       "  <thead>\n",
       "    <tr style=\"text-align: right;\">\n",
       "      <th></th>\n",
       "      <th>DataType</th>\n",
       "    </tr>\n",
       "  </thead>\n",
       "  <tbody>\n",
       "    <tr>\n",
       "      <th>Impression</th>\n",
       "      <td>float64</td>\n",
       "    </tr>\n",
       "    <tr>\n",
       "      <th>Click</th>\n",
       "      <td>float64</td>\n",
       "    </tr>\n",
       "    <tr>\n",
       "      <th>Purchase</th>\n",
       "      <td>float64</td>\n",
       "    </tr>\n",
       "    <tr>\n",
       "      <th>Earning</th>\n",
       "      <td>float64</td>\n",
       "    </tr>\n",
       "  </tbody>\n",
       "</table>\n",
       "</div>"
      ],
      "text/plain": [
       "           DataType\n",
       "Impression  float64\n",
       "Click       float64\n",
       "Purchase    float64\n",
       "Earning     float64"
      ]
     },
     "metadata": {},
     "output_type": "display_data"
    },
    {
     "name": "stdout",
     "output_type": "stream",
     "text": [
      "##################### Head #####################\n"
     ]
    },
    {
     "data": {
      "text/html": [
       "<div>\n",
       "<style scoped>\n",
       "    .dataframe tbody tr th:only-of-type {\n",
       "        vertical-align: middle;\n",
       "    }\n",
       "\n",
       "    .dataframe tbody tr th {\n",
       "        vertical-align: top;\n",
       "    }\n",
       "\n",
       "    .dataframe thead th {\n",
       "        text-align: right;\n",
       "    }\n",
       "</style>\n",
       "<table border=\"1\" class=\"dataframe\">\n",
       "  <thead>\n",
       "    <tr style=\"text-align: right;\">\n",
       "      <th></th>\n",
       "      <th>Impression</th>\n",
       "      <th>Click</th>\n",
       "      <th>Purchase</th>\n",
       "      <th>Earning</th>\n",
       "    </tr>\n",
       "  </thead>\n",
       "  <tbody>\n",
       "    <tr>\n",
       "      <th>0</th>\n",
       "      <td>82529.46</td>\n",
       "      <td>6090.08</td>\n",
       "      <td>665.21</td>\n",
       "      <td>2311.28</td>\n",
       "    </tr>\n",
       "    <tr>\n",
       "      <th>1</th>\n",
       "      <td>98050.45</td>\n",
       "      <td>3382.86</td>\n",
       "      <td>315.08</td>\n",
       "      <td>1742.81</td>\n",
       "    </tr>\n",
       "    <tr>\n",
       "      <th>2</th>\n",
       "      <td>82696.02</td>\n",
       "      <td>4167.97</td>\n",
       "      <td>458.08</td>\n",
       "      <td>1797.83</td>\n",
       "    </tr>\n",
       "    <tr>\n",
       "      <th>3</th>\n",
       "      <td>109914.40</td>\n",
       "      <td>4910.88</td>\n",
       "      <td>487.09</td>\n",
       "      <td>1696.23</td>\n",
       "    </tr>\n",
       "    <tr>\n",
       "      <th>4</th>\n",
       "      <td>108457.76</td>\n",
       "      <td>5987.66</td>\n",
       "      <td>441.03</td>\n",
       "      <td>1543.72</td>\n",
       "    </tr>\n",
       "  </tbody>\n",
       "</table>\n",
       "</div>"
      ],
      "text/plain": [
       "   Impression   Click  Purchase  Earning\n",
       "0    82529.46 6090.08    665.21  2311.28\n",
       "1    98050.45 3382.86    315.08  1742.81\n",
       "2    82696.02 4167.97    458.08  1797.83\n",
       "3   109914.40 4910.88    487.09  1696.23\n",
       "4   108457.76 5987.66    441.03  1543.72"
      ]
     },
     "metadata": {},
     "output_type": "display_data"
    },
    {
     "name": "stdout",
     "output_type": "stream",
     "text": [
      "##################### Tail #####################\n"
     ]
    },
    {
     "data": {
      "text/html": [
       "<div>\n",
       "<style scoped>\n",
       "    .dataframe tbody tr th:only-of-type {\n",
       "        vertical-align: middle;\n",
       "    }\n",
       "\n",
       "    .dataframe tbody tr th {\n",
       "        vertical-align: top;\n",
       "    }\n",
       "\n",
       "    .dataframe thead th {\n",
       "        text-align: right;\n",
       "    }\n",
       "</style>\n",
       "<table border=\"1\" class=\"dataframe\">\n",
       "  <thead>\n",
       "    <tr style=\"text-align: right;\">\n",
       "      <th></th>\n",
       "      <th>Impression</th>\n",
       "      <th>Click</th>\n",
       "      <th>Purchase</th>\n",
       "      <th>Earning</th>\n",
       "    </tr>\n",
       "  </thead>\n",
       "  <tbody>\n",
       "    <tr>\n",
       "      <th>35</th>\n",
       "      <td>132064.22</td>\n",
       "      <td>3747.16</td>\n",
       "      <td>551.07</td>\n",
       "      <td>2256.98</td>\n",
       "    </tr>\n",
       "    <tr>\n",
       "      <th>36</th>\n",
       "      <td>86409.94</td>\n",
       "      <td>4608.26</td>\n",
       "      <td>345.05</td>\n",
       "      <td>1781.36</td>\n",
       "    </tr>\n",
       "    <tr>\n",
       "      <th>37</th>\n",
       "      <td>123678.93</td>\n",
       "      <td>3649.07</td>\n",
       "      <td>476.17</td>\n",
       "      <td>2187.72</td>\n",
       "    </tr>\n",
       "    <tr>\n",
       "      <th>38</th>\n",
       "      <td>101997.49</td>\n",
       "      <td>4736.35</td>\n",
       "      <td>474.61</td>\n",
       "      <td>2254.56</td>\n",
       "    </tr>\n",
       "    <tr>\n",
       "      <th>39</th>\n",
       "      <td>121085.88</td>\n",
       "      <td>4285.18</td>\n",
       "      <td>590.41</td>\n",
       "      <td>1289.31</td>\n",
       "    </tr>\n",
       "  </tbody>\n",
       "</table>\n",
       "</div>"
      ],
      "text/plain": [
       "    Impression   Click  Purchase  Earning\n",
       "35   132064.22 3747.16    551.07  2256.98\n",
       "36    86409.94 4608.26    345.05  1781.36\n",
       "37   123678.93 3649.07    476.17  2187.72\n",
       "38   101997.49 4736.35    474.61  2254.56\n",
       "39   121085.88 4285.18    590.41  1289.31"
      ]
     },
     "metadata": {},
     "output_type": "display_data"
    },
    {
     "name": "stdout",
     "output_type": "stream",
     "text": [
      "##################### NA #####################\n"
     ]
    },
    {
     "data": {
      "text/html": [
       "<div>\n",
       "<style scoped>\n",
       "    .dataframe tbody tr th:only-of-type {\n",
       "        vertical-align: middle;\n",
       "    }\n",
       "\n",
       "    .dataframe tbody tr th {\n",
       "        vertical-align: top;\n",
       "    }\n",
       "\n",
       "    .dataframe thead th {\n",
       "        text-align: right;\n",
       "    }\n",
       "</style>\n",
       "<table border=\"1\" class=\"dataframe\">\n",
       "  <thead>\n",
       "    <tr style=\"text-align: right;\">\n",
       "      <th></th>\n",
       "      <th># of N/A value</th>\n",
       "    </tr>\n",
       "  </thead>\n",
       "  <tbody>\n",
       "    <tr>\n",
       "      <th>Impression</th>\n",
       "      <td>0</td>\n",
       "    </tr>\n",
       "    <tr>\n",
       "      <th>Click</th>\n",
       "      <td>0</td>\n",
       "    </tr>\n",
       "    <tr>\n",
       "      <th>Purchase</th>\n",
       "      <td>0</td>\n",
       "    </tr>\n",
       "    <tr>\n",
       "      <th>Earning</th>\n",
       "      <td>0</td>\n",
       "    </tr>\n",
       "  </tbody>\n",
       "</table>\n",
       "</div>"
      ],
      "text/plain": [
       "            # of N/A value\n",
       "Impression               0\n",
       "Click                    0\n",
       "Purchase                 0\n",
       "Earning                  0"
      ]
     },
     "metadata": {},
     "output_type": "display_data"
    },
    {
     "name": "stdout",
     "output_type": "stream",
     "text": [
      "##################### Quantiles #####################\n"
     ]
    },
    {
     "data": {
      "text/html": [
       "<div>\n",
       "<style scoped>\n",
       "    .dataframe tbody tr th:only-of-type {\n",
       "        vertical-align: middle;\n",
       "    }\n",
       "\n",
       "    .dataframe tbody tr th {\n",
       "        vertical-align: top;\n",
       "    }\n",
       "\n",
       "    .dataframe thead th {\n",
       "        text-align: right;\n",
       "    }\n",
       "</style>\n",
       "<table border=\"1\" class=\"dataframe\">\n",
       "  <thead>\n",
       "    <tr style=\"text-align: right;\">\n",
       "      <th></th>\n",
       "      <th>0.00</th>\n",
       "      <th>0.01</th>\n",
       "      <th>0.05</th>\n",
       "      <th>0.25</th>\n",
       "      <th>0.50</th>\n",
       "      <th>0.75</th>\n",
       "      <th>0.95</th>\n",
       "      <th>0.99</th>\n",
       "      <th>1.00</th>\n",
       "    </tr>\n",
       "  </thead>\n",
       "  <tbody>\n",
       "    <tr>\n",
       "      <th>Impression</th>\n",
       "      <td>45475.94</td>\n",
       "      <td>58072.04</td>\n",
       "      <td>79412.02</td>\n",
       "      <td>85726.69</td>\n",
       "      <td>99790.70</td>\n",
       "      <td>115212.82</td>\n",
       "      <td>132950.53</td>\n",
       "      <td>143105.79</td>\n",
       "      <td>147539.34</td>\n",
       "    </tr>\n",
       "    <tr>\n",
       "      <th>Click</th>\n",
       "      <td>2189.75</td>\n",
       "      <td>2535.12</td>\n",
       "      <td>3367.48</td>\n",
       "      <td>4124.30</td>\n",
       "      <td>5001.22</td>\n",
       "      <td>5923.80</td>\n",
       "      <td>7374.36</td>\n",
       "      <td>7761.80</td>\n",
       "      <td>7959.13</td>\n",
       "    </tr>\n",
       "    <tr>\n",
       "      <th>Purchase</th>\n",
       "      <td>267.03</td>\n",
       "      <td>285.77</td>\n",
       "      <td>328.66</td>\n",
       "      <td>470.10</td>\n",
       "      <td>531.21</td>\n",
       "      <td>637.96</td>\n",
       "      <td>748.27</td>\n",
       "      <td>790.19</td>\n",
       "      <td>801.80</td>\n",
       "    </tr>\n",
       "    <tr>\n",
       "      <th>Earning</th>\n",
       "      <td>1253.99</td>\n",
       "      <td>1267.76</td>\n",
       "      <td>1329.58</td>\n",
       "      <td>1685.85</td>\n",
       "      <td>1975.16</td>\n",
       "      <td>2119.80</td>\n",
       "      <td>2318.53</td>\n",
       "      <td>2481.31</td>\n",
       "      <td>2497.30</td>\n",
       "    </tr>\n",
       "  </tbody>\n",
       "</table>\n",
       "</div>"
      ],
      "text/plain": [
       "               0.00     0.01     0.05     0.25     0.50      0.75      0.95      0.99      1.00\n",
       "Impression 45475.94 58072.04 79412.02 85726.69 99790.70 115212.82 132950.53 143105.79 147539.34\n",
       "Click       2189.75  2535.12  3367.48  4124.30  5001.22   5923.80   7374.36   7761.80   7959.13\n",
       "Purchase     267.03   285.77   328.66   470.10   531.21    637.96    748.27    790.19    801.80\n",
       "Earning     1253.99  1267.76  1329.58  1685.85  1975.16   2119.80   2318.53   2481.31   2497.30"
      ]
     },
     "metadata": {},
     "output_type": "display_data"
    }
   ],
   "source": [
    "# Kontrol verilerine  hızlı bir bakış atalım;\n",
    "\n",
    "et.check_df(df_control, display_=True)"
   ]
  },
  {
   "cell_type": "code",
   "execution_count": 16,
   "metadata": {},
   "outputs": [
    {
     "name": "stdout",
     "output_type": "stream",
     "text": [
      "##################### Shape #####################\n",
      "(40, 4)\n",
      "##################### Types #####################\n"
     ]
    },
    {
     "data": {
      "text/html": [
       "<div>\n",
       "<style scoped>\n",
       "    .dataframe tbody tr th:only-of-type {\n",
       "        vertical-align: middle;\n",
       "    }\n",
       "\n",
       "    .dataframe tbody tr th {\n",
       "        vertical-align: top;\n",
       "    }\n",
       "\n",
       "    .dataframe thead th {\n",
       "        text-align: right;\n",
       "    }\n",
       "</style>\n",
       "<table border=\"1\" class=\"dataframe\">\n",
       "  <thead>\n",
       "    <tr style=\"text-align: right;\">\n",
       "      <th></th>\n",
       "      <th>DataType</th>\n",
       "    </tr>\n",
       "  </thead>\n",
       "  <tbody>\n",
       "    <tr>\n",
       "      <th>Impression</th>\n",
       "      <td>float64</td>\n",
       "    </tr>\n",
       "    <tr>\n",
       "      <th>Click</th>\n",
       "      <td>float64</td>\n",
       "    </tr>\n",
       "    <tr>\n",
       "      <th>Purchase</th>\n",
       "      <td>float64</td>\n",
       "    </tr>\n",
       "    <tr>\n",
       "      <th>Earning</th>\n",
       "      <td>float64</td>\n",
       "    </tr>\n",
       "  </tbody>\n",
       "</table>\n",
       "</div>"
      ],
      "text/plain": [
       "           DataType\n",
       "Impression  float64\n",
       "Click       float64\n",
       "Purchase    float64\n",
       "Earning     float64"
      ]
     },
     "metadata": {},
     "output_type": "display_data"
    },
    {
     "name": "stdout",
     "output_type": "stream",
     "text": [
      "##################### Head #####################\n"
     ]
    },
    {
     "data": {
      "text/html": [
       "<div>\n",
       "<style scoped>\n",
       "    .dataframe tbody tr th:only-of-type {\n",
       "        vertical-align: middle;\n",
       "    }\n",
       "\n",
       "    .dataframe tbody tr th {\n",
       "        vertical-align: top;\n",
       "    }\n",
       "\n",
       "    .dataframe thead th {\n",
       "        text-align: right;\n",
       "    }\n",
       "</style>\n",
       "<table border=\"1\" class=\"dataframe\">\n",
       "  <thead>\n",
       "    <tr style=\"text-align: right;\">\n",
       "      <th></th>\n",
       "      <th>Impression</th>\n",
       "      <th>Click</th>\n",
       "      <th>Purchase</th>\n",
       "      <th>Earning</th>\n",
       "    </tr>\n",
       "  </thead>\n",
       "  <tbody>\n",
       "    <tr>\n",
       "      <th>0</th>\n",
       "      <td>120103.50</td>\n",
       "      <td>3216.55</td>\n",
       "      <td>702.16</td>\n",
       "      <td>1939.61</td>\n",
       "    </tr>\n",
       "    <tr>\n",
       "      <th>1</th>\n",
       "      <td>134775.94</td>\n",
       "      <td>3635.08</td>\n",
       "      <td>834.05</td>\n",
       "      <td>2929.41</td>\n",
       "    </tr>\n",
       "    <tr>\n",
       "      <th>2</th>\n",
       "      <td>107806.62</td>\n",
       "      <td>3057.14</td>\n",
       "      <td>422.93</td>\n",
       "      <td>2526.24</td>\n",
       "    </tr>\n",
       "    <tr>\n",
       "      <th>3</th>\n",
       "      <td>116445.28</td>\n",
       "      <td>4650.47</td>\n",
       "      <td>429.03</td>\n",
       "      <td>2281.43</td>\n",
       "    </tr>\n",
       "    <tr>\n",
       "      <th>4</th>\n",
       "      <td>145082.52</td>\n",
       "      <td>5201.39</td>\n",
       "      <td>749.86</td>\n",
       "      <td>2781.70</td>\n",
       "    </tr>\n",
       "  </tbody>\n",
       "</table>\n",
       "</div>"
      ],
      "text/plain": [
       "   Impression   Click  Purchase  Earning\n",
       "0   120103.50 3216.55    702.16  1939.61\n",
       "1   134775.94 3635.08    834.05  2929.41\n",
       "2   107806.62 3057.14    422.93  2526.24\n",
       "3   116445.28 4650.47    429.03  2281.43\n",
       "4   145082.52 5201.39    749.86  2781.70"
      ]
     },
     "metadata": {},
     "output_type": "display_data"
    },
    {
     "name": "stdout",
     "output_type": "stream",
     "text": [
      "##################### Tail #####################\n"
     ]
    },
    {
     "data": {
      "text/html": [
       "<div>\n",
       "<style scoped>\n",
       "    .dataframe tbody tr th:only-of-type {\n",
       "        vertical-align: middle;\n",
       "    }\n",
       "\n",
       "    .dataframe tbody tr th {\n",
       "        vertical-align: top;\n",
       "    }\n",
       "\n",
       "    .dataframe thead th {\n",
       "        text-align: right;\n",
       "    }\n",
       "</style>\n",
       "<table border=\"1\" class=\"dataframe\">\n",
       "  <thead>\n",
       "    <tr style=\"text-align: right;\">\n",
       "      <th></th>\n",
       "      <th>Impression</th>\n",
       "      <th>Click</th>\n",
       "      <th>Purchase</th>\n",
       "      <th>Earning</th>\n",
       "    </tr>\n",
       "  </thead>\n",
       "  <tbody>\n",
       "    <tr>\n",
       "      <th>35</th>\n",
       "      <td>79234.91</td>\n",
       "      <td>6002.21</td>\n",
       "      <td>382.05</td>\n",
       "      <td>2277.86</td>\n",
       "    </tr>\n",
       "    <tr>\n",
       "      <th>36</th>\n",
       "      <td>130702.24</td>\n",
       "      <td>3626.32</td>\n",
       "      <td>449.82</td>\n",
       "      <td>2530.84</td>\n",
       "    </tr>\n",
       "    <tr>\n",
       "      <th>37</th>\n",
       "      <td>116481.87</td>\n",
       "      <td>4702.78</td>\n",
       "      <td>472.45</td>\n",
       "      <td>2597.92</td>\n",
       "    </tr>\n",
       "    <tr>\n",
       "      <th>38</th>\n",
       "      <td>79033.83</td>\n",
       "      <td>4495.43</td>\n",
       "      <td>425.36</td>\n",
       "      <td>2595.86</td>\n",
       "    </tr>\n",
       "    <tr>\n",
       "      <th>39</th>\n",
       "      <td>102257.45</td>\n",
       "      <td>4800.07</td>\n",
       "      <td>521.31</td>\n",
       "      <td>2967.52</td>\n",
       "    </tr>\n",
       "  </tbody>\n",
       "</table>\n",
       "</div>"
      ],
      "text/plain": [
       "    Impression   Click  Purchase  Earning\n",
       "35    79234.91 6002.21    382.05  2277.86\n",
       "36   130702.24 3626.32    449.82  2530.84\n",
       "37   116481.87 4702.78    472.45  2597.92\n",
       "38    79033.83 4495.43    425.36  2595.86\n",
       "39   102257.45 4800.07    521.31  2967.52"
      ]
     },
     "metadata": {},
     "output_type": "display_data"
    },
    {
     "name": "stdout",
     "output_type": "stream",
     "text": [
      "##################### NA #####################\n"
     ]
    },
    {
     "data": {
      "text/html": [
       "<div>\n",
       "<style scoped>\n",
       "    .dataframe tbody tr th:only-of-type {\n",
       "        vertical-align: middle;\n",
       "    }\n",
       "\n",
       "    .dataframe tbody tr th {\n",
       "        vertical-align: top;\n",
       "    }\n",
       "\n",
       "    .dataframe thead th {\n",
       "        text-align: right;\n",
       "    }\n",
       "</style>\n",
       "<table border=\"1\" class=\"dataframe\">\n",
       "  <thead>\n",
       "    <tr style=\"text-align: right;\">\n",
       "      <th></th>\n",
       "      <th># of N/A value</th>\n",
       "    </tr>\n",
       "  </thead>\n",
       "  <tbody>\n",
       "    <tr>\n",
       "      <th>Impression</th>\n",
       "      <td>0</td>\n",
       "    </tr>\n",
       "    <tr>\n",
       "      <th>Click</th>\n",
       "      <td>0</td>\n",
       "    </tr>\n",
       "    <tr>\n",
       "      <th>Purchase</th>\n",
       "      <td>0</td>\n",
       "    </tr>\n",
       "    <tr>\n",
       "      <th>Earning</th>\n",
       "      <td>0</td>\n",
       "    </tr>\n",
       "  </tbody>\n",
       "</table>\n",
       "</div>"
      ],
      "text/plain": [
       "            # of N/A value\n",
       "Impression               0\n",
       "Click                    0\n",
       "Purchase                 0\n",
       "Earning                  0"
      ]
     },
     "metadata": {},
     "output_type": "display_data"
    },
    {
     "name": "stdout",
     "output_type": "stream",
     "text": [
      "##################### Quantiles #####################\n"
     ]
    },
    {
     "data": {
      "text/html": [
       "<div>\n",
       "<style scoped>\n",
       "    .dataframe tbody tr th:only-of-type {\n",
       "        vertical-align: middle;\n",
       "    }\n",
       "\n",
       "    .dataframe tbody tr th {\n",
       "        vertical-align: top;\n",
       "    }\n",
       "\n",
       "    .dataframe thead th {\n",
       "        text-align: right;\n",
       "    }\n",
       "</style>\n",
       "<table border=\"1\" class=\"dataframe\">\n",
       "  <thead>\n",
       "    <tr style=\"text-align: right;\">\n",
       "      <th></th>\n",
       "      <th>0.00</th>\n",
       "      <th>0.01</th>\n",
       "      <th>0.05</th>\n",
       "      <th>0.25</th>\n",
       "      <th>0.50</th>\n",
       "      <th>0.75</th>\n",
       "      <th>0.95</th>\n",
       "      <th>0.99</th>\n",
       "      <th>1.00</th>\n",
       "    </tr>\n",
       "  </thead>\n",
       "  <tbody>\n",
       "    <tr>\n",
       "      <th>Impression</th>\n",
       "      <td>79033.83</td>\n",
       "      <td>79112.25</td>\n",
       "      <td>83150.50</td>\n",
       "      <td>112691.97</td>\n",
       "      <td>119291.30</td>\n",
       "      <td>132050.58</td>\n",
       "      <td>153178.69</td>\n",
       "      <td>158245.26</td>\n",
       "      <td>158605.92</td>\n",
       "    </tr>\n",
       "    <tr>\n",
       "      <th>Click</th>\n",
       "      <td>1836.63</td>\n",
       "      <td>2005.23</td>\n",
       "      <td>2600.36</td>\n",
       "      <td>3376.82</td>\n",
       "      <td>3931.36</td>\n",
       "      <td>4660.50</td>\n",
       "      <td>5271.19</td>\n",
       "      <td>6012.88</td>\n",
       "      <td>6019.70</td>\n",
       "    </tr>\n",
       "    <tr>\n",
       "      <th>Purchase</th>\n",
       "      <td>311.63</td>\n",
       "      <td>325.21</td>\n",
       "      <td>356.70</td>\n",
       "      <td>444.63</td>\n",
       "      <td>551.36</td>\n",
       "      <td>699.86</td>\n",
       "      <td>854.21</td>\n",
       "      <td>876.58</td>\n",
       "      <td>889.91</td>\n",
       "    </tr>\n",
       "    <tr>\n",
       "      <th>Earning</th>\n",
       "      <td>1939.61</td>\n",
       "      <td>1942.78</td>\n",
       "      <td>2080.98</td>\n",
       "      <td>2280.54</td>\n",
       "      <td>2544.67</td>\n",
       "      <td>2761.55</td>\n",
       "      <td>2931.31</td>\n",
       "      <td>3091.94</td>\n",
       "      <td>3171.49</td>\n",
       "    </tr>\n",
       "  </tbody>\n",
       "</table>\n",
       "</div>"
      ],
      "text/plain": [
       "               0.00     0.01     0.05      0.25      0.50      0.75      0.95      0.99      1.00\n",
       "Impression 79033.83 79112.25 83150.50 112691.97 119291.30 132050.58 153178.69 158245.26 158605.92\n",
       "Click       1836.63  2005.23  2600.36   3376.82   3931.36   4660.50   5271.19   6012.88   6019.70\n",
       "Purchase     311.63   325.21   356.70    444.63    551.36    699.86    854.21    876.58    889.91\n",
       "Earning     1939.61  1942.78  2080.98   2280.54   2544.67   2761.55   2931.31   3091.94   3171.49"
      ]
     },
     "metadata": {},
     "output_type": "display_data"
    }
   ],
   "source": [
    "# Test verilerine  hızlı bir bakış atalım;\n",
    "\n",
    "et.check_df(df_test, display_=True)"
   ]
  },
  {
   "cell_type": "code",
   "execution_count": 20,
   "metadata": {},
   "outputs": [
    {
     "data": {
      "text/html": [
       "<div>\n",
       "<style scoped>\n",
       "    .dataframe tbody tr th:only-of-type {\n",
       "        vertical-align: middle;\n",
       "    }\n",
       "\n",
       "    .dataframe tbody tr th {\n",
       "        vertical-align: top;\n",
       "    }\n",
       "\n",
       "    .dataframe thead th {\n",
       "        text-align: right;\n",
       "    }\n",
       "</style>\n",
       "<table border=\"1\" class=\"dataframe\">\n",
       "  <thead>\n",
       "    <tr style=\"text-align: right;\">\n",
       "      <th></th>\n",
       "      <th>Impression</th>\n",
       "      <th>Click</th>\n",
       "      <th>Purchase</th>\n",
       "      <th>Earning</th>\n",
       "      <th>group</th>\n",
       "    </tr>\n",
       "  </thead>\n",
       "  <tbody>\n",
       "    <tr>\n",
       "      <th>0</th>\n",
       "      <td>82529.46</td>\n",
       "      <td>6090.08</td>\n",
       "      <td>665.21</td>\n",
       "      <td>2311.28</td>\n",
       "      <td>control</td>\n",
       "    </tr>\n",
       "    <tr>\n",
       "      <th>1</th>\n",
       "      <td>98050.45</td>\n",
       "      <td>3382.86</td>\n",
       "      <td>315.08</td>\n",
       "      <td>1742.81</td>\n",
       "      <td>control</td>\n",
       "    </tr>\n",
       "    <tr>\n",
       "      <th>2</th>\n",
       "      <td>82696.02</td>\n",
       "      <td>4167.97</td>\n",
       "      <td>458.08</td>\n",
       "      <td>1797.83</td>\n",
       "      <td>control</td>\n",
       "    </tr>\n",
       "    <tr>\n",
       "      <th>3</th>\n",
       "      <td>109914.40</td>\n",
       "      <td>4910.88</td>\n",
       "      <td>487.09</td>\n",
       "      <td>1696.23</td>\n",
       "      <td>control</td>\n",
       "    </tr>\n",
       "    <tr>\n",
       "      <th>4</th>\n",
       "      <td>108457.76</td>\n",
       "      <td>5987.66</td>\n",
       "      <td>441.03</td>\n",
       "      <td>1543.72</td>\n",
       "      <td>control</td>\n",
       "    </tr>\n",
       "  </tbody>\n",
       "</table>\n",
       "</div>"
      ],
      "text/plain": [
       "   Impression   Click  Purchase  Earning    group\n",
       "0    82529.46 6090.08    665.21  2311.28  control\n",
       "1    98050.45 3382.86    315.08  1742.81  control\n",
       "2    82696.02 4167.97    458.08  1797.83  control\n",
       "3   109914.40 4910.88    487.09  1696.23  control\n",
       "4   108457.76 5987.66    441.03  1543.72  control"
      ]
     },
     "metadata": {},
     "output_type": "display_data"
    },
    {
     "name": "stdout",
     "output_type": "stream",
     "text": [
      "\n",
      "\n",
      "\n"
     ]
    },
    {
     "data": {
      "text/html": [
       "<div>\n",
       "<style scoped>\n",
       "    .dataframe tbody tr th:only-of-type {\n",
       "        vertical-align: middle;\n",
       "    }\n",
       "\n",
       "    .dataframe tbody tr th {\n",
       "        vertical-align: top;\n",
       "    }\n",
       "\n",
       "    .dataframe thead th {\n",
       "        text-align: right;\n",
       "    }\n",
       "</style>\n",
       "<table border=\"1\" class=\"dataframe\">\n",
       "  <thead>\n",
       "    <tr style=\"text-align: right;\">\n",
       "      <th></th>\n",
       "      <th>Impression</th>\n",
       "      <th>Click</th>\n",
       "      <th>Purchase</th>\n",
       "      <th>Earning</th>\n",
       "      <th>group</th>\n",
       "    </tr>\n",
       "  </thead>\n",
       "  <tbody>\n",
       "    <tr>\n",
       "      <th>35</th>\n",
       "      <td>79234.91</td>\n",
       "      <td>6002.21</td>\n",
       "      <td>382.05</td>\n",
       "      <td>2277.86</td>\n",
       "      <td>test</td>\n",
       "    </tr>\n",
       "    <tr>\n",
       "      <th>36</th>\n",
       "      <td>130702.24</td>\n",
       "      <td>3626.32</td>\n",
       "      <td>449.82</td>\n",
       "      <td>2530.84</td>\n",
       "      <td>test</td>\n",
       "    </tr>\n",
       "    <tr>\n",
       "      <th>37</th>\n",
       "      <td>116481.87</td>\n",
       "      <td>4702.78</td>\n",
       "      <td>472.45</td>\n",
       "      <td>2597.92</td>\n",
       "      <td>test</td>\n",
       "    </tr>\n",
       "    <tr>\n",
       "      <th>38</th>\n",
       "      <td>79033.83</td>\n",
       "      <td>4495.43</td>\n",
       "      <td>425.36</td>\n",
       "      <td>2595.86</td>\n",
       "      <td>test</td>\n",
       "    </tr>\n",
       "    <tr>\n",
       "      <th>39</th>\n",
       "      <td>102257.45</td>\n",
       "      <td>4800.07</td>\n",
       "      <td>521.31</td>\n",
       "      <td>2967.52</td>\n",
       "      <td>test</td>\n",
       "    </tr>\n",
       "  </tbody>\n",
       "</table>\n",
       "</div>"
      ],
      "text/plain": [
       "    Impression   Click  Purchase  Earning group\n",
       "35    79234.91 6002.21    382.05  2277.86  test\n",
       "36   130702.24 3626.32    449.82  2530.84  test\n",
       "37   116481.87 4702.78    472.45  2597.92  test\n",
       "38    79033.83 4495.43    425.36  2595.86  test\n",
       "39   102257.45 4800.07    521.31  2967.52  test"
      ]
     },
     "metadata": {},
     "output_type": "display_data"
    }
   ],
   "source": [
    "# concat metodunu kullanarak kontrol ve test grubu verilerini birleştiriniz.\n",
    "\n",
    "df_control[\"group\"] = \"control\"\n",
    "df_test[\"group\"] = \"test\"\n",
    "\n",
    "df = pd.concat([df_control,df_test], axis=0,ignore_index=False)\n",
    "display(df.head())\n",
    "print(end=\"\\n\\n\\n\")\n",
    "display(df.tail())"
   ]
  },
  {
   "attachments": {},
   "cell_type": "markdown",
   "metadata": {},
   "source": [
    "### Görev 2:"
   ]
  },
  {
   "cell_type": "code",
   "execution_count": 21,
   "metadata": {},
   "outputs": [],
   "source": [
    "# Hipotezi tanımlayalım;\n",
    "\n",
    "# H0 : M1 = M2 (Kontrol grubu ve test grubu satın alma ortalamaları arasında fark yoktur.)\n",
    "# H1 : M1!= M2 (Kontrol grubu ve test grubu satın alma ortalamaları arasında fark vardır.)"
   ]
  },
  {
   "cell_type": "code",
   "execution_count": 22,
   "metadata": {},
   "outputs": [
    {
     "data": {
      "text/html": [
       "<div>\n",
       "<style scoped>\n",
       "    .dataframe tbody tr th:only-of-type {\n",
       "        vertical-align: middle;\n",
       "    }\n",
       "\n",
       "    .dataframe tbody tr th {\n",
       "        vertical-align: top;\n",
       "    }\n",
       "\n",
       "    .dataframe thead th {\n",
       "        text-align: right;\n",
       "    }\n",
       "</style>\n",
       "<table border=\"1\" class=\"dataframe\">\n",
       "  <thead>\n",
       "    <tr style=\"text-align: right;\">\n",
       "      <th></th>\n",
       "      <th>Purchase</th>\n",
       "    </tr>\n",
       "    <tr>\n",
       "      <th>group</th>\n",
       "      <th></th>\n",
       "    </tr>\n",
       "  </thead>\n",
       "  <tbody>\n",
       "    <tr>\n",
       "      <th>control</th>\n",
       "      <td>550.89</td>\n",
       "    </tr>\n",
       "    <tr>\n",
       "      <th>test</th>\n",
       "      <td>582.11</td>\n",
       "    </tr>\n",
       "  </tbody>\n",
       "</table>\n",
       "</div>"
      ],
      "text/plain": [
       "         Purchase\n",
       "group            \n",
       "control    550.89\n",
       "test       582.11"
      ]
     },
     "execution_count": 22,
     "metadata": {},
     "output_type": "execute_result"
    }
   ],
   "source": [
    "# Kontrol ve test grubu için purchase(kazanç) ortalamalarını analiz ediniz\n",
    "\n",
    "df.groupby(\"group\").agg({\"Purchase\": \"mean\"})"
   ]
  },
  {
   "attachments": {},
   "cell_type": "markdown",
   "metadata": {},
   "source": [
    "### GÖREV 3:"
   ]
  },
  {
   "cell_type": "code",
   "execution_count": null,
   "metadata": {},
   "outputs": [],
   "source": [
    "# Hipotez testi yapılmadan önce varsayım kontrollerini yapalım.\n",
    "# Bunlar Normallik Varsayımı ve Varyans Homojenliğidir."
   ]
  },
  {
   "cell_type": "code",
   "execution_count": 23,
   "metadata": {},
   "outputs": [
    {
     "name": "stdout",
     "output_type": "stream",
     "text": [
      "Test Stat = 0.9773, p-value = 0.5891\n"
     ]
    }
   ],
   "source": [
    "# Normallik Varsayımının hipotezini kuralım;\n",
    "\n",
    "# H0: Normal dağılım varsayımı sağlanmaktadır.\n",
    "# H1: Normal dağılım varsayımı sağlanmamaktadır.\n",
    "\n",
    "# p < 0.05 H0 RED\n",
    "# p > 0.05 H0 REDDEDİLEMEZ\n",
    "\n",
    "test_stat, pvalue = shapiro(df.loc[df[\"group\"] == \"control\", \"Purchase\"])\n",
    "print('Test Stat = %.4f, p-value = %.4f' % (test_stat, pvalue))"
   ]
  },
  {
   "attachments": {},
   "cell_type": "markdown",
   "metadata": {},
   "source": [
    "    HO reddedilemez. Control grubunun değerleri normal dağılım varsayımını sağlamaktadır."
   ]
  },
  {
   "cell_type": "code",
   "execution_count": 25,
   "metadata": {},
   "outputs": [
    {
     "name": "stdout",
     "output_type": "stream",
     "text": [
      "Test Stat = 0.9589, p-value = 0.1541\n"
     ]
    }
   ],
   "source": [
    "test_stat, pvalue = shapiro(df.loc[df[\"group\"] == \"test\", \"Purchase\"])\n",
    "print('Test Stat = %.4f, p-value = %.4f' % (test_stat, pvalue))"
   ]
  },
  {
   "attachments": {},
   "cell_type": "markdown",
   "metadata": {},
   "source": [
    "    HO reddedilemez. Test grubunun da değerleri normal dağılım varsayımını sağlamaktadır."
   ]
  },
  {
   "cell_type": "code",
   "execution_count": 24,
   "metadata": {},
   "outputs": [
    {
     "name": "stdout",
     "output_type": "stream",
     "text": [
      "Test Stat = 2.6393, p-value = 0.1083\n"
     ]
    }
   ],
   "source": [
    "# Varyans Homojenliğinin hipotez testlerini kuralım;\n",
    "\n",
    "# H0: Varyanslarhomojendir.\n",
    "# H1: Varyanslarhomojen Değildir.\n",
    "\n",
    "# p < 0.05 H0 RED\n",
    "# p > 0.05 H0 REDDEDİLEMEZ\n",
    "\n",
    "test_stat, pvalue = levene(df.loc[df[\"group\"] == \"control\", \"Purchase\"],\n",
    "                           df.loc[df[\"group\"] == \"test\", \"Purchase\"])\n",
    "print('Test Stat = %.4f, p-value = %.4f' % (test_stat, pvalue))"
   ]
  },
  {
   "attachments": {},
   "cell_type": "markdown",
   "metadata": {},
   "source": [
    "    HO reddedilemez. Control ve Test grubunun değerleri varyans homejenliği varsayımını sağlamaktadır.\n",
    "    Varyanslar Homojendir."
   ]
  },
  {
   "cell_type": "code",
   "execution_count": 26,
   "metadata": {},
   "outputs": [
    {
     "name": "stdout",
     "output_type": "stream",
     "text": [
      "Test Stat = -0.9416, p-value = 0.3493\n"
     ]
    }
   ],
   "source": [
    "# Varsayımlar sağlandığı için bağımsız iki örneklem t testi (parametrik test) yapacağız.\n",
    "\n",
    "# T- testinin hipatezlerini yazalım;\n",
    "\n",
    "# H0: M1 = M2 (Kontrol grubu ve test grubu satın alma ortalamaları arasında ist. ol.anl.fark yoktur.)\n",
    "# H1: M1 != M2 (Kontrol grubu ve test grubu satın alma ortalamaları arasında ist. ol.anl.fark vardır)\n",
    "\n",
    "# p<0.05 HO RED \n",
    "# p>0.05 HO REDDEDİLEMEZ\n",
    "\n",
    "test_stat, pvalue = ttest_ind(df.loc[df[\"group\"] == \"control\", \"Purchase\"],\n",
    "                              df.loc[df[\"group\"] == \"test\", \"Purchase\"],\n",
    "                              equal_var=True)\n",
    "\n",
    "print('Test Stat = %.4f, p-value = %.4f' % (test_stat, pvalue))"
   ]
  },
  {
   "attachments": {},
   "cell_type": "markdown",
   "metadata": {},
   "source": [
    "    HO reddedilemez. \n",
    "    Kontrol ve test grubu satın alma ortalamaları arasında istatistiksel olarak anlamlı farklılık yoktur."
   ]
  }
 ],
 "metadata": {
  "kernelspec": {
   "display_name": "base",
   "language": "python",
   "name": "python3"
  },
  "language_info": {
   "codemirror_mode": {
    "name": "ipython",
    "version": 3
   },
   "file_extension": ".py",
   "mimetype": "text/x-python",
   "name": "python",
   "nbconvert_exporter": "python",
   "pygments_lexer": "ipython3",
   "version": "3.9.13"
  },
  "orig_nbformat": 4
 },
 "nbformat": 4,
 "nbformat_minor": 2
}
